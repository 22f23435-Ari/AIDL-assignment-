{
  "cells": [
    {
      "cell_type": "code",
      "execution_count": null,
      "metadata": {
        "colab": {
          "base_uri": "https://localhost:8080/"
        },
        "id": "2JML_UVuIFxv",
        "outputId": "7ae72dee-dcb0-4b21-a20f-718fcd689334"
      },
      "outputs": [
        {
          "name": "stdout",
          "output_type": "stream",
          "text": [
            "Mounted at /content/drive\n"
          ]
        }
      ],
      "source": [
        "#dataset is available in googledrive; so drive is accessed from colab\n",
        "from google.colab import drive\n",
        "drive.mount('/content/drive', force_remount=True)\n"
      ]
    },
    {
      "cell_type": "code",
      "execution_count": null,
      "metadata": {
        "id": "kDP2cUW9dM5E"
      },
      "outputs": [],
      "source": [
        "# Define paths to the dataset for tarin and test\n",
        "train_dir = '/content/drive/MyDrive/AIDL assignment/Xray-non-xray-dataset/Xray_Classifier/Xray_Classifier/train'\n",
        "test_dir = '/content/drive/MyDrive/AIDL assignment/Xray-non-xray-dataset/Xray_Classifier/Xray_Classifier/test'"
      ]
    },
    {
      "cell_type": "code",
      "execution_count": null,
      "metadata": {
        "colab": {
          "base_uri": "https://localhost:8080/"
        },
        "id": "0fqnkqLreMsc",
        "outputId": "2b5ae5fd-e36e-40de-b578-09f53163709a"
      },
      "outputs": [
        {
          "name": "stdout",
          "output_type": "stream",
          "text": [
            "621\n",
            "565\n",
            "551\n",
            "575\n"
          ]
        }
      ],
      "source": [
        "import os\n",
        "print(len(os.listdir('/content/drive/MyDrive/AIDL assignment/Xray-non-xray-dataset/Xray_Classifier/Xray_Classifier/train/non_xray')))\n",
        "print(len(os.listdir('/content/drive/MyDrive/AIDL assignment/Xray-non-xray-dataset/Xray_Classifier/Xray_Classifier/train/xray')))\n",
        "print(len(os.listdir('/content/drive/MyDrive/AIDL assignment/Xray-non-xray-dataset/Xray_Classifier/Xray_Classifier/test/non_xray')))\n",
        "print(len(os.listdir('/content/drive/MyDrive/AIDL assignment/Xray-non-xray-dataset/Xray_Classifier/Xray_Classifier/test/xray')))\n",
        "#this list the no. of files in each folder from the path provided"
      ]
    },
    {
      "cell_type": "code",
      "execution_count": null,
      "metadata": {
        "colab": {
          "base_uri": "https://localhost:8080/"
        },
        "id": "xjyP6384enLl",
        "outputId": "603a608e-211e-411c-cb2a-50c4f1f149bb"
      },
      "outputs": [
        {
          "name": "stdout",
          "output_type": "stream",
          "text": [
            "Found 949 images belonging to 2 classes.\n",
            "Found 236 images belonging to 2 classes.\n"
          ]
        }
      ],
      "source": [
        "import tensorflow as tf #importing centerflow library\n",
        "from tensorflow.keras.preprocessing.image import ImageDataGenerator\n",
        "\n",
        "# Create ImageDataGenerator for training set\n",
        "train_datagen = ImageDataGenerator(\n",
        "    rescale=1./255,  #scaling th pixel values between 0-1\n",
        "    validation_split=0.2  # Split 20% of the images for validation\n",
        ")\n",
        "\n",
        "# Load and prepare training data\n",
        "train_data = train_datagen.flow_from_directory(\n",
        "    train_dir, #traning images folder\n",
        "    target_size=(256,256), #resize all the images\n",
        "    batch_size=32, # 32 images are processed in one time\n",
        "    class_mode='binary',  # 'binary' for binary classification (Xrays vs. non-Xrays)\n",
        "    subset='training'  # Specify 'training' for the training set\n",
        ")\n",
        "\n",
        "# Create ImageDataGenerator for validation set\n",
        "validation_datagen = ImageDataGenerator(\n",
        "    rescale=1./255,\n",
        "    validation_split=0.2  # same validation split as in the training set\n",
        ")\n",
        "\n",
        "# Load and prepare validation data\n",
        "validation_data = validation_datagen.flow_from_directory(\n",
        "    train_dir,\n",
        "    target_size=(256,256),\n",
        "    batch_size=32,\n",
        "    class_mode='binary',\n",
        "    subset='validation'  # Specify 'validation' for the validation set\n",
        ")"
      ]
    },
    {
      "cell_type": "code",
      "execution_count": null,
      "metadata": {
        "id": "g9VAWtV0OyV6"
      },
      "outputs": [],
      "source": [
        "from tensorflow import keras #importing keras\n",
        "from keras import Sequential #importing sequential model\n",
        "from keras.layers import Dense,Conv2D,MaxPooling2D,Flatten,BatchNormalization,UpSampling2D, Dropout\n",
        "#importing layers for the model"
      ]
    },
    {
      "cell_type": "code",
      "execution_count": null,
      "metadata": {
        "colab": {
          "base_uri": "https://localhost:8080/"
        },
        "id": "d9fflAB3O1bu",
        "outputId": "3738b6a8-21ac-48bb-d7cc-99a56953f79d"
      },
      "outputs": [
        {
          "name": "stderr",
          "output_type": "stream",
          "text": [
            "/usr/local/lib/python3.11/dist-packages/keras/src/layers/convolutional/base_conv.py:107: UserWarning: Do not pass an `input_shape`/`input_dim` argument to a layer. When using Sequential models, prefer using an `Input(shape)` object as the first layer in the model instead.\n",
            "  super().__init__(activity_regularizer=activity_regularizer, **kwargs)\n"
          ]
        }
      ],
      "source": [
        "# create CNN model - custom-made\n",
        "\n",
        "model = Sequential()\n",
        "\n",
        "#adding convulsions layer 1 and max pooling to reduce the spatial dimension by half\n",
        "model.add(Conv2D(32,kernel_size=(3,3),padding='valid',activation='relu',input_shape=(256,256,3)))  # 32 filters\n",
        "model.add(MaxPooling2D(pool_size=(2,2),strides=2,padding='valid'))\n",
        "\n",
        "#adding convulsions layer 2 and max pooling to reduce the spatial dimension by half\n",
        "model.add(Conv2D(64,kernel_size=(3,3),padding='valid',activation='relu'))\n",
        "model.add(MaxPooling2D(pool_size=(2,2),strides=2,padding='valid'))\n",
        "\n",
        "#adding convulsions layer 3 and max pooling to reduce the spatial dimension by half\n",
        "model.add(Conv2D(128,kernel_size=(3,3),padding='valid',activation='relu'))\n",
        "model.add(MaxPooling2D(pool_size=(2,2),strides=2,padding='valid'))\n",
        "\n",
        "#faltten the output to prepare it for the dense layer\n",
        "model.add(Flatten())\n",
        "\n",
        "#the dense layer is added\n",
        "model.add(Dense(128,activation='relu')) #feature reduction\n",
        "model.add(Dense(64,activation='relu'))\n",
        "model.add(Dense(1,activation='sigmoid'))  #output layer"
      ]
    },
    {
      "cell_type": "code",
      "execution_count": null,
      "metadata": {
        "id": "AgcAIeZDO6dr"
      },
      "outputs": [],
      "source": [
        "from keras.optimizers import Adam\n",
        "#model compilation with learning rate of 0.001\n",
        "model.compile(optimizer=Adam(learning_rate=0.001),loss='binary_crossentropy',metrics=['accuracy']) #binary_crossentropy - binary classification"
      ]
    },
    {
      "cell_type": "code",
      "execution_count": null,
      "metadata": {
        "colab": {
          "background_save": true,
          "base_uri": "https://localhost:8080/"
        },
        "id": "tYpjhlIRO-Yf",
        "outputId": "de30d5ab-e242-45b4-9096-55116b4f2e75"
      },
      "outputs": [
        {
          "name": "stderr",
          "output_type": "stream",
          "text": [
            "/usr/local/lib/python3.11/dist-packages/keras/src/trainers/data_adapters/py_dataset_adapter.py:121: UserWarning: Your `PyDataset` class should call `super().__init__(**kwargs)` in its constructor. `**kwargs` can include `workers`, `use_multiprocessing`, `max_queue_size`. Do not pass these arguments to `fit()`, as they will be ignored.\n",
            "  self._warn_if_super_not_called()\n"
          ]
        },
        {
          "name": "stdout",
          "output_type": "stream",
          "text": [
            "Epoch 1/20\n",
            "\u001b[1m30/30\u001b[0m \u001b[32m━━━━━━━━━━━━━━━━━━━━\u001b[0m\u001b[37m\u001b[0m \u001b[1m372s\u001b[0m 12s/step - accuracy: 0.7671 - loss: 0.5057 - val_accuracy: 0.9195 - val_loss: 0.2475\n",
            "Epoch 2/20\n",
            "\u001b[1m30/30\u001b[0m \u001b[32m━━━━━━━━━━━━━━━━━━━━\u001b[0m\u001b[37m\u001b[0m \u001b[1m169s\u001b[0m 5s/step - accuracy: 0.9878 - loss: 0.0460 - val_accuracy: 0.9788 - val_loss: 0.0853\n",
            "Epoch 3/20\n",
            "\u001b[1m30/30\u001b[0m \u001b[32m━━━━━━━━━━━━━━━━━━━━\u001b[0m\u001b[37m\u001b[0m \u001b[1m165s\u001b[0m 6s/step - accuracy: 0.9987 - loss: 0.0021 - val_accuracy: 0.9831 - val_loss: 0.1471\n",
            "Epoch 4/20\n",
            "\u001b[1m30/30\u001b[0m \u001b[32m━━━━━━━━━━━━━━━━━━━━\u001b[0m\u001b[37m\u001b[0m \u001b[1m156s\u001b[0m 5s/step - accuracy: 1.0000 - loss: 5.2714e-05 - val_accuracy: 0.9831 - val_loss: 0.1369\n",
            "Epoch 5/20\n",
            "\u001b[1m30/30\u001b[0m \u001b[32m━━━━━━━━━━━━━━━━━━━━\u001b[0m\u001b[37m\u001b[0m \u001b[1m158s\u001b[0m 5s/step - accuracy: 1.0000 - loss: 1.0090e-04 - val_accuracy: 0.9831 - val_loss: 0.1264\n",
            "Epoch 6/20\n",
            "\u001b[1m30/30\u001b[0m \u001b[32m━━━━━━━━━━━━━━━━━━━━\u001b[0m\u001b[37m\u001b[0m \u001b[1m156s\u001b[0m 5s/step - accuracy: 1.0000 - loss: 2.3906e-05 - val_accuracy: 0.9831 - val_loss: 0.1413\n",
            "Epoch 7/20\n",
            "\u001b[1m30/30\u001b[0m \u001b[32m━━━━━━━━━━━━━━━━━━━━\u001b[0m\u001b[37m\u001b[0m \u001b[1m165s\u001b[0m 6s/step - accuracy: 1.0000 - loss: 5.2403e-06 - val_accuracy: 0.9746 - val_loss: 0.1389\n",
            "Epoch 8/20\n",
            "\u001b[1m30/30\u001b[0m \u001b[32m━━━━━━━━━━━━━━━━━━━━\u001b[0m\u001b[37m\u001b[0m \u001b[1m155s\u001b[0m 5s/step - accuracy: 1.0000 - loss: 1.2313e-04 - val_accuracy: 0.9831 - val_loss: 0.1688\n",
            "Epoch 9/20\n",
            "\u001b[1m30/30\u001b[0m \u001b[32m━━━━━━━━━━━━━━━━━━━━\u001b[0m\u001b[37m\u001b[0m \u001b[1m156s\u001b[0m 5s/step - accuracy: 1.0000 - loss: 5.3764e-06 - val_accuracy: 0.9831 - val_loss: 0.1621\n",
            "Epoch 10/20\n",
            "\u001b[1m30/30\u001b[0m \u001b[32m━━━━━━━━━━━━━━━━━━━━\u001b[0m\u001b[37m\u001b[0m \u001b[1m153s\u001b[0m 5s/step - accuracy: 1.0000 - loss: 9.0131e-06 - val_accuracy: 0.9831 - val_loss: 0.1523\n",
            "Epoch 11/20\n",
            "\u001b[1m30/30\u001b[0m \u001b[32m━━━━━━━━━━━━━━━━━━━━\u001b[0m\u001b[37m\u001b[0m \u001b[1m163s\u001b[0m 5s/step - accuracy: 1.0000 - loss: 9.4352e-06 - val_accuracy: 0.9831 - val_loss: 0.1506\n",
            "Epoch 12/20\n",
            "\u001b[1m30/30\u001b[0m \u001b[32m━━━━━━━━━━━━━━━━━━━━\u001b[0m\u001b[37m\u001b[0m \u001b[1m156s\u001b[0m 5s/step - accuracy: 1.0000 - loss: 4.8251e-06 - val_accuracy: 0.9831 - val_loss: 0.1519\n",
            "Epoch 13/20\n",
            "\u001b[1m30/30\u001b[0m \u001b[32m━━━━━━━━━━━━━━━━━━━━\u001b[0m\u001b[37m\u001b[0m \u001b[1m164s\u001b[0m 5s/step - accuracy: 1.0000 - loss: 5.0868e-06 - val_accuracy: 0.9831 - val_loss: 0.1540\n",
            "Epoch 14/20\n",
            "\u001b[1m30/30\u001b[0m \u001b[32m━━━━━━━━━━━━━━━━━━━━\u001b[0m\u001b[37m\u001b[0m \u001b[1m156s\u001b[0m 5s/step - accuracy: 1.0000 - loss: 2.2566e-06 - val_accuracy: 0.9831 - val_loss: 0.1565\n",
            "Epoch 15/20\n",
            "\u001b[1m30/30\u001b[0m \u001b[32m━━━━━━━━━━━━━━━━━━━━\u001b[0m\u001b[37m\u001b[0m \u001b[1m164s\u001b[0m 6s/step - accuracy: 1.0000 - loss: 3.3474e-06 - val_accuracy: 0.9831 - val_loss: 0.1586\n",
            "Epoch 16/20\n",
            "\u001b[1m30/30\u001b[0m \u001b[32m━━━━━━━━━━━━━━━━━━━━\u001b[0m\u001b[37m\u001b[0m \u001b[1m156s\u001b[0m 5s/step - accuracy: 1.0000 - loss: 2.0975e-06 - val_accuracy: 0.9831 - val_loss: 0.1621\n",
            "Epoch 17/20\n",
            "\u001b[1m30/30\u001b[0m \u001b[32m━━━━━━━━━━━━━━━━━━━━\u001b[0m\u001b[37m\u001b[0m \u001b[1m202s\u001b[0m 5s/step - accuracy: 1.0000 - loss: 2.9374e-06 - val_accuracy: 0.9831 - val_loss: 0.1635\n",
            "Epoch 18/20\n",
            "\u001b[1m30/30\u001b[0m \u001b[32m━━━━━━━━━━━━━━━━━━━━\u001b[0m\u001b[37m\u001b[0m \u001b[1m165s\u001b[0m 6s/step - accuracy: 1.0000 - loss: 4.3604e-06 - val_accuracy: 0.9831 - val_loss: 0.1676\n",
            "Epoch 19/20\n",
            "\u001b[1m30/30\u001b[0m \u001b[32m━━━━━━━━━━━━━━━━━━━━\u001b[0m\u001b[37m\u001b[0m \u001b[1m164s\u001b[0m 5s/step - accuracy: 1.0000 - loss: 1.8500e-06 - val_accuracy: 0.9831 - val_loss: 0.1703\n",
            "Epoch 20/20\n",
            "\u001b[1m30/30\u001b[0m \u001b[32m━━━━━━━━━━━━━━━━━━━━\u001b[0m\u001b[37m\u001b[0m \u001b[1m157s\u001b[0m 5s/step - accuracy: 1.0000 - loss: 2.3982e-06 - val_accuracy: 0.9831 - val_loss: 0.1704\n"
          ]
        }
      ],
      "source": [
        "history = model.fit(train_data, epochs=20, validation_data=validation_data)\n",
        "#traing the model with epoch as 20 so it go through dataset 10 times"
      ]
    },
    {
      "cell_type": "code",
      "execution_count": null,
      "metadata": {
        "colab": {
          "background_save": true,
          "base_uri": "https://localhost:8080/",
          "height": 430
        },
        "id": "8Db_kNw6b5Id",
        "outputId": "187a1eda-d69d-4d77-e7af-1af643f6a772"
      },
      "outputs": [
        {
          "data": {
            "image/png": "[encoded data removed]",
            "text/plain": [
              "<Figure size 640x480 with 1 Axes>"
            ]
          },
          "metadata": {},
          "output_type": "display_data"
        }
      ],
      "source": [
        "import matplotlib.pyplot as plt #import library to plat graphs\n",
        "\n",
        "plt.plot(history.history['accuracy'],color='red',label='train')\n",
        "plt.plot(history.history['val_accuracy'],color='blue',label='validation')\n",
        "plt.legend()\n",
        "plt.show()"
      ]
    },
    {
      "cell_type": "code",
      "execution_count": null,
      "metadata": {
        "colab": {
          "background_save": true,
          "base_uri": "https://localhost:8080/",
          "height": 430
        },
        "id": "MJPYomeYb8Q9",
        "outputId": "5d254ebc-4805-4048-ceac-ecf57f2cdac6"
      },
      "outputs": [
        {
          "data": {
            "image/png": "[encoded data removed]",
            "text/plain": [
              "<Figure size 640x480 with 1 Axes>"
            ]
          },
          "metadata": {},
          "output_type": "display_data"
        }
      ],
      "source": [
        "plt.plot(history.history['loss'],color='red',label='train')\n",
        "plt.plot(history.history['val_loss'],color='blue',label='validation')\n",
        "plt.legend()\n",
        "plt.show()"
      ]
    },
    {
      "cell_type": "code",
      "execution_count": null,
      "metadata": {
        "colab": {
          "background_save": true,
          "base_uri": "https://localhost:8080/"
        },
        "id": "Km9FpXflcDdr",
        "outputId": "08f30f63-7c61-45b8-dc01-d65fc668ab6e"
      },
      "outputs": [
        {
          "name": "stdout",
          "output_type": "stream",
          "text": [
            "Found 1125 images belonging to 2 classes.\n"
          ]
        }
      ],
      "source": [
        "#create ImageDataGenerator for the test dataset rescaling the pixels to range between 0 and 1\n",
        "test_datagen = ImageDataGenerator(rescale=1./255)\n",
        "#load and prepare the data\n",
        "test_data = test_datagen.flow_from_directory(\n",
        "    test_dir,\n",
        "    target_size=(256,256),\n",
        "    batch_size=32,\n",
        "    class_mode='binary'\n",
        ")"
      ]
    },
    {
      "cell_type": "code",
      "execution_count": null,
      "metadata": {
        "colab": {
          "background_save": true
        },
        "id": "rvYKGNpHcIDE",
        "outputId": "54321dd4-3966-435e-f843-8412303d48e5"
      },
      "outputs": [
        {
          "name": "stdout",
          "output_type": "stream",
          "text": [
            "\u001b[1m36/36\u001b[0m \u001b[32m━━━━━━━━━━━━━━━━━━━━\u001b[0m\u001b[37m\u001b[0m \u001b[1m343s\u001b[0m 10s/step\n"
          ]
        }
      ],
      "source": [
        "#predict the test data\n",
        "predictions = model.predict(test_data)"
      ]
    },
    {
      "cell_type": "code",
      "execution_count": null,
      "metadata": {
        "colab": {
          "background_save": true
        },
        "id": "i75oF8brc8b3",
        "outputId": "2e3056f6-f51d-4f88-fc0e-7fc4693b5143"
      },
      "outputs": [
        {
          "name": "stdout",
          "output_type": "stream",
          "text": [
            "Confusion Matrix:\n",
            "[[273 278]\n",
            " [274 300]]\n",
            "Classification Report:\n",
            "              precision    recall  f1-score   support\n",
            "\n",
            "           0       0.50      0.50      0.50       551\n",
            "           1       0.52      0.52      0.52       574\n",
            "\n",
            "    accuracy                           0.51      1125\n",
            "   macro avg       0.51      0.51      0.51      1125\n",
            "weighted avg       0.51      0.51      0.51      1125\n",
            "\n"
          ]
        }
      ],
      "source": [
        "from sklearn.metrics import confusion_matrix, classification_report\n",
        "\n",
        "# Assuming you have ground truth labels (true_labels) and predicted labels (predictions)\n",
        "true_labels = test_data.classes #getting acutal tables from the dataset.\n",
        "predicted_labels = (predictions > 0.5).astype(int)  # converting output to 0 or 1, Adjust the threshold as needed\n",
        "\n",
        "# Calculate confusion matrix\n",
        "cm = confusion_matrix(true_labels, predicted_labels)\n",
        "\n",
        "# Print confusion matrix\n",
        "print(\"Confusion Matrix:\")\n",
        "print(cm)\n",
        "\n",
        "# Print classification report\n",
        "print(\"Classification Report:\")\n",
        "print(classification_report(true_labels, predicted_labels))"
      ]
    },
    {
      "cell_type": "markdown",
      "metadata": {
        "id": "aLBHUKKpZACW"
      },
      "source": [
        "There is an overfitting"
      ]
    },
    {
      "cell_type": "code",
      "execution_count": null,
      "metadata": {
        "id": "z0QYZuxRZJTN"
      },
      "outputs": [],
      "source": [
        "# create CNN model\n",
        "\n",
        "model = Sequential()\n",
        "#adding convulsions layer 1 and max pooling to reduce the spatial dimension by half\n",
        "#batchnormalization and maxpooling is used to avoid overfitting and reduce image size for all layers\n",
        "model.add(Conv2D(32,kernel_size=(3,3),padding='valid',activation='relu',input_shape=(256,256,3)))  # 32 filters\n",
        "model.add(BatchNormalization())  # added to reduce overfitting\n",
        "model.add(MaxPooling2D(pool_size=(2,2),strides=2,padding='valid'))\n",
        "\n",
        "#adding convulsions layer 2 and max pooling to reduce the spatial dimension by half\n",
        "model.add(Conv2D(64,kernel_size=(3,3),padding='valid',activation='relu'))\n",
        "model.add(BatchNormalization())  # added to reduce overfitting\n",
        "model.add(MaxPooling2D(pool_size=(2,2),strides=2,padding='valid'))\n",
        "\n",
        "#adding convulsions layer 3 and max pooling to reduce the spatial dimension by half\n",
        "model.add(Conv2D(128,kernel_size=(3,3),padding='valid',activation='relu'))\n",
        "model.add(BatchNormalization())  # added to reduce overfitting\n",
        "model.add(MaxPooling2D(pool_size=(2,2),strides=2,padding='valid'))\n",
        "\n",
        "model.add(Flatten())\n",
        "\n",
        "model.add(Dense(128,activation='relu')) #feature reduction\n",
        "model.add(Dropout(0.1))  # added to reduce overfitting\n",
        "model.add(Dense(64,activation='relu'))\n",
        "model.add(Dropout(0.1))  # added to reduce overfitting\n",
        "model.add(Dense(1,activation='sigmoid'))  #output layer"
      ]
    },
    {
      "cell_type": "code",
      "execution_count": null,
      "metadata": {
        "id": "QDBqTUfDZMZx"
      },
      "outputs": [],
      "source": [
        "#compilation model with learning rate as 0.001 for efficient training\n",
        "from keras.optimizers import Adam\n",
        "model.compile(optimizer=Adam(learning_rate=0.001),loss='binary_crossentropy',metrics=['accuracy'])"
      ]
    },
    {
      "cell_type": "code",
      "execution_count": null,
      "metadata": {
        "id": "PX1KmQ2kZPyx",
        "colab": {
          "base_uri": "https://localhost:8080/"
        },
        "outputId": "0f7deae0-d409-4921-e9fb-5bf014f2bec8"
      },
      "outputs": [
        {
          "output_type": "stream",
          "name": "stdout",
          "text": [
            "Epoch 1/20\n",
            "\u001b[1m30/30\u001b[0m \u001b[32m━━━━━━━━━━━━━━━━━━━━\u001b[0m\u001b[37m\u001b[0m \u001b[1m253s\u001b[0m 8s/step - accuracy: 0.8773 - loss: 1.1160 - val_accuracy: 0.6271 - val_loss: 6.0115\n",
            "Epoch 2/20\n",
            "\u001b[1m30/30\u001b[0m \u001b[32m━━━━━━━━━━━━━━━━━━━━\u001b[0m\u001b[37m\u001b[0m \u001b[1m244s\u001b[0m 8s/step - accuracy: 0.9897 - loss: 0.2067 - val_accuracy: 0.7712 - val_loss: 4.7752\n",
            "Epoch 3/20\n",
            "\u001b[1m30/30\u001b[0m \u001b[32m━━━━━━━━━━━━━━━━━━━━\u001b[0m\u001b[37m\u001b[0m \u001b[1m245s\u001b[0m 8s/step - accuracy: 0.9863 - loss: 0.3257 - val_accuracy: 0.7839 - val_loss: 4.5107\n",
            "Epoch 4/20\n",
            "\u001b[1m30/30\u001b[0m \u001b[32m━━━━━━━━━━━━━━━━━━━━\u001b[0m\u001b[37m\u001b[0m \u001b[1m237s\u001b[0m 8s/step - accuracy: 0.9958 - loss: 0.1414 - val_accuracy: 0.6737 - val_loss: 5.3417\n",
            "Epoch 5/20\n",
            "\u001b[1m30/30\u001b[0m \u001b[32m━━━━━━━━━━━━━━━━━━━━\u001b[0m\u001b[37m\u001b[0m \u001b[1m235s\u001b[0m 8s/step - accuracy: 0.9924 - loss: 0.3843 - val_accuracy: 0.6144 - val_loss: 8.3085\n",
            "Epoch 6/20\n",
            "\u001b[1m30/30\u001b[0m \u001b[32m━━━━━━━━━━━━━━━━━━━━\u001b[0m\u001b[37m\u001b[0m \u001b[1m238s\u001b[0m 8s/step - accuracy: 0.9981 - loss: 0.1311 - val_accuracy: 0.5169 - val_loss: 68.9651\n",
            "Epoch 7/20\n",
            "\u001b[1m30/30\u001b[0m \u001b[32m━━━━━━━━━━━━━━━━━━━━\u001b[0m\u001b[37m\u001b[0m \u001b[1m260s\u001b[0m 8s/step - accuracy: 0.9885 - loss: 0.8014 - val_accuracy: 0.4788 - val_loss: 39.9951\n",
            "Epoch 8/20\n",
            "\u001b[1m30/30\u001b[0m \u001b[32m━━━━━━━━━━━━━━━━━━━━\u001b[0m\u001b[37m\u001b[0m \u001b[1m240s\u001b[0m 8s/step - accuracy: 0.9961 - loss: 0.2100 - val_accuracy: 0.4831 - val_loss: 44.3730\n",
            "Epoch 9/20\n",
            "\u001b[1m30/30\u001b[0m \u001b[32m━━━━━━━━━━━━━━━━━━━━\u001b[0m\u001b[37m\u001b[0m \u001b[1m272s\u001b[0m 8s/step - accuracy: 0.9987 - loss: 0.0165 - val_accuracy: 0.9407 - val_loss: 9.0975\n",
            "Epoch 10/20\n",
            "\u001b[1m30/30\u001b[0m \u001b[32m━━━━━━━━━━━━━━━━━━━━\u001b[0m\u001b[37m\u001b[0m \u001b[1m239s\u001b[0m 8s/step - accuracy: 0.9953 - loss: 0.0806 - val_accuracy: 0.6822 - val_loss: 29.6717\n",
            "Epoch 11/20\n",
            "\u001b[1m30/30\u001b[0m \u001b[32m━━━━━━━━━━━━━━━━━━━━\u001b[0m\u001b[37m\u001b[0m \u001b[1m246s\u001b[0m 8s/step - accuracy: 0.9954 - loss: 0.6024 - val_accuracy: 0.6737 - val_loss: 25.3669\n",
            "Epoch 12/20\n",
            "\u001b[1m30/30\u001b[0m \u001b[32m━━━━━━━━━━━━━━━━━━━━\u001b[0m\u001b[37m\u001b[0m \u001b[1m235s\u001b[0m 8s/step - accuracy: 0.9963 - loss: 0.4123 - val_accuracy: 0.9025 - val_loss: 3.8189\n",
            "Epoch 13/20\n",
            "\u001b[1m30/30\u001b[0m \u001b[32m━━━━━━━━━━━━━━━━━━━━\u001b[0m\u001b[37m\u001b[0m \u001b[1m272s\u001b[0m 8s/step - accuracy: 0.9953 - loss: 0.1039 - val_accuracy: 0.8941 - val_loss: 8.6868\n",
            "Epoch 14/20\n",
            "\u001b[1m30/30\u001b[0m \u001b[32m━━━━━━━━━━━━━━━━━━━━\u001b[0m\u001b[37m\u001b[0m \u001b[1m237s\u001b[0m 8s/step - accuracy: 0.9953 - loss: 0.1275 - val_accuracy: 0.9661 - val_loss: 4.2478\n",
            "Epoch 15/20\n",
            "\u001b[1m30/30\u001b[0m \u001b[32m━━━━━━━━━━━━━━━━━━━━\u001b[0m\u001b[37m\u001b[0m \u001b[1m245s\u001b[0m 8s/step - accuracy: 0.9971 - loss: 0.1505 - val_accuracy: 0.9619 - val_loss: 6.4137\n",
            "Epoch 16/20\n",
            "\u001b[1m30/30\u001b[0m \u001b[32m━━━━━━━━━━━━━━━━━━━━\u001b[0m\u001b[37m\u001b[0m \u001b[1m236s\u001b[0m 8s/step - accuracy: 0.9896 - loss: 0.6446 - val_accuracy: 0.9619 - val_loss: 1.9058\n",
            "Epoch 17/20\n",
            "\u001b[1m30/30\u001b[0m \u001b[32m━━━━━━━━━━━━━━━━━━━━\u001b[0m\u001b[37m\u001b[0m \u001b[1m261s\u001b[0m 8s/step - accuracy: 0.9986 - loss: 0.0171 - val_accuracy: 0.9703 - val_loss: 1.5008\n",
            "Epoch 18/20\n",
            "\u001b[1m30/30\u001b[0m \u001b[32m━━━━━━━━━━━━━━━━━━━━\u001b[0m\u001b[37m\u001b[0m \u001b[1m243s\u001b[0m 8s/step - accuracy: 0.9971 - loss: 0.1862 - val_accuracy: 0.9703 - val_loss: 3.9136\n",
            "Epoch 19/20\n",
            "\u001b[1m30/30\u001b[0m \u001b[32m━━━━━━━━━━━━━━━━━━━━\u001b[0m\u001b[37m\u001b[0m \u001b[1m239s\u001b[0m 8s/step - accuracy: 0.9983 - loss: 0.0014 - val_accuracy: 0.9576 - val_loss: 3.1786\n",
            "Epoch 20/20\n",
            "\u001b[1m30/30\u001b[0m \u001b[32m━━━━━━━━━━━━━━━━━━━━\u001b[0m\u001b[37m\u001b[0m \u001b[1m260s\u001b[0m 8s/step - accuracy: 1.0000 - loss: 4.8629e-05 - val_accuracy: 0.9576 - val_loss: 3.2961\n"
          ]
        }
      ],
      "source": [
        "#training the model with 20 epochs the model will go through dataset 10 times.\n",
        "history = model.fit(train_data, epochs=20, validation_data=validation_data)"
      ]
    },
    {
      "cell_type": "code",
      "execution_count": null,
      "metadata": {
        "id": "onzDav5bjwhX",
        "colab": {
          "base_uri": "https://localhost:8080/"
        },
        "outputId": "a20a6876-1b44-44bd-ad1c-78546ab4b981"
      },
      "outputs": [
        {
          "output_type": "stream",
          "name": "stdout",
          "text": [
            "Found 1125 images belonging to 2 classes.\n"
          ]
        }
      ],
      "source": [
        "#create ImageDataGenerator for the test dataset rescaling the pixels to range between 0 and 1\n",
        "test_data = test_datagen.flow_from_directory(\n",
        "    test_dir,\n",
        "    target_size=(256,256),\n",
        "    batch_size=32,\n",
        "    class_mode='binary'\n",
        ")"
      ]
    },
    {
      "cell_type": "code",
      "execution_count": null,
      "metadata": {
        "id": "9JTSDQNqjz-K",
        "colab": {
          "base_uri": "https://localhost:8080/"
        },
        "outputId": "ca323c59-97cf-4b55-f971-7edea89a3482"
      },
      "outputs": [
        {
          "output_type": "stream",
          "name": "stderr",
          "text": [
            "/usr/local/lib/python3.11/dist-packages/keras/src/trainers/data_adapters/py_dataset_adapter.py:121: UserWarning: Your `PyDataset` class should call `super().__init__(**kwargs)` in its constructor. `**kwargs` can include `workers`, `use_multiprocessing`, `max_queue_size`. Do not pass these arguments to `fit()`, as they will be ignored.\n",
            "  self._warn_if_super_not_called()\n"
          ]
        },
        {
          "output_type": "stream",
          "name": "stdout",
          "text": [
            "\u001b[1m36/36\u001b[0m \u001b[32m━━━━━━━━━━━━━━━━━━━━\u001b[0m\u001b[37m\u001b[0m \u001b[1m77s\u001b[0m 2s/step\n"
          ]
        }
      ],
      "source": [
        "#predicting the test data\n",
        "predictions = model.predict(test_data)"
      ]
    },
    {
      "cell_type": "code",
      "execution_count": null,
      "metadata": {
        "id": "JGVcbyB7j3Fn",
        "colab": {
          "base_uri": "https://localhost:8080/"
        },
        "outputId": "17157985-1604-4d68-c523-bdb88e655151"
      },
      "outputs": [
        {
          "output_type": "stream",
          "name": "stdout",
          "text": [
            "Confusion Matrix:\n",
            "[[264 287]\n",
            " [281 293]]\n",
            "Classification Report after applying techniques to handle overfitting:\n",
            "              precision    recall  f1-score   support\n",
            "\n",
            "           0       0.48      0.48      0.48       551\n",
            "           1       0.51      0.51      0.51       574\n",
            "\n",
            "    accuracy                           0.50      1125\n",
            "   macro avg       0.49      0.49      0.49      1125\n",
            "weighted avg       0.50      0.50      0.50      1125\n",
            "\n"
          ]
        }
      ],
      "source": [
        "from sklearn.metrics import confusion_matrix, classification_report\n",
        "\n",
        "# Assuming you have ground truth labels (true_labels) and predicted labels (predictions)\n",
        "true_labels = test_data.classes #getting acutal tables from the dataset.\n",
        "predicted_labels = (predictions > 0.5).astype(int)  #converting output to 0 or 1, Adjust the threshold as needed\n",
        "# Calculate confusion matrix\n",
        "cm = confusion_matrix(true_labels, predicted_labels)\n",
        "\n",
        "# Print confusion matrix\n",
        "print(\"Confusion Matrix:\")\n",
        "print(cm)\n",
        "\n",
        "# Print classification report\n",
        "print(\"Classification Report after applying techniques to handle overfitting:\")\n",
        "print(classification_report(true_labels, predicted_labels))"
      ]
    },
    {
      "cell_type": "code",
      "execution_count": null,
      "metadata": {
        "id": "mLywMy2sj6jz",
        "colab": {
          "base_uri": "https://localhost:8080/"
        },
        "outputId": "f5e73ce4-2a35-4a08-8938-27f62cd0b7ea"
      },
      "outputs": [
        {
          "output_type": "stream",
          "name": "stdout",
          "text": [
            "Downloading data from https://storage.googleapis.com/tensorflow/keras-applications/resnet/resnet50_weights_tf_dim_ordering_tf_kernels_notop.h5\n",
            "\u001b[1m94765736/94765736\u001b[0m \u001b[32m━━━━━━━━━━━━━━━━━━━━\u001b[0m\u001b[37m\u001b[0m \u001b[1m4s\u001b[0m 0us/step\n"
          ]
        }
      ],
      "source": [
        "import tensorflow as tf\n",
        "from tensorflow import keras\n",
        "from keras import Sequential\n",
        "from keras.layers import Dense,Conv2D,MaxPooling2D,Flatten\n",
        "\n",
        "#creating sequential model\n",
        "resnet_model = Sequential()    #ResNet50 is a pre-trained model\n",
        "#loading the ResNet50 pretrained model\n",
        "pretrained_model = tf.keras.applications.ResNet50(include_top = False, #because i have my own image of a diff dimension\n",
        "                                                input_shape = (256,256,3),\n",
        "                                                pooling = 'max', classes = 2,\n",
        "                                                weights = 'imagenet')\n",
        "#freezing all layers of the pretrained resnet50 model to get the orignal weight\n",
        "for layer in pretrained_model.layers:\n",
        "    layer.trainable = False  #avoiding these layers from being updated during training\n",
        "\n",
        "resnet_model.add(pretrained_model)\n",
        "resnet_model.add(Flatten())\n",
        "resnet_model.add(Dense(512, activation = 'relu'))\n",
        "resnet_model.add(Dense(1, activation = 'sigmoid'))"
      ]
    },
    {
      "cell_type": "code",
      "execution_count": null,
      "metadata": {
        "id": "xyfo3oV7j-3L"
      },
      "outputs": [],
      "source": [
        "from keras.optimizers import Adam\n",
        "resnet_model.compile(optimizer=Adam(learning_rate=0.001),loss='binary_crossentropy',metrics=['accuracy'])"
      ]
    },
    {
      "cell_type": "code",
      "execution_count": null,
      "metadata": {
        "id": "iq09sng3kCsF",
        "colab": {
          "base_uri": "https://localhost:8080/"
        },
        "outputId": "f624843b-e15b-4ebe-fb9e-be30f8f0fd6c"
      },
      "outputs": [
        {
          "output_type": "stream",
          "name": "stdout",
          "text": [
            "Epoch 1/20\n",
            "\u001b[1m30/30\u001b[0m \u001b[32m━━━━━━━━━━━━━━━━━━━━\u001b[0m\u001b[37m\u001b[0m \u001b[1m316s\u001b[0m 10s/step - accuracy: 0.5339 - loss: 3.3740 - val_accuracy: 0.6229 - val_loss: 0.7458\n",
            "Epoch 2/20\n",
            "\u001b[1m30/30\u001b[0m \u001b[32m━━━━━━━━━━━━━━━━━━━━\u001b[0m\u001b[37m\u001b[0m \u001b[1m325s\u001b[0m 11s/step - accuracy: 0.7406 - loss: 0.5405 - val_accuracy: 0.7797 - val_loss: 0.4466\n",
            "Epoch 3/20\n",
            "\u001b[1m30/30\u001b[0m \u001b[32m━━━━━━━━━━━━━━━━━━━━\u001b[0m\u001b[37m\u001b[0m \u001b[1m320s\u001b[0m 11s/step - accuracy: 0.8076 - loss: 0.3976 - val_accuracy: 0.6737 - val_loss: 0.6563\n",
            "Epoch 4/20\n",
            "\u001b[1m30/30\u001b[0m \u001b[32m━━━━━━━━━━━━━━━━━━━━\u001b[0m\u001b[37m\u001b[0m \u001b[1m307s\u001b[0m 10s/step - accuracy: 0.8604 - loss: 0.3186 - val_accuracy: 0.8093 - val_loss: 0.3905\n",
            "Epoch 5/20\n",
            "\u001b[1m30/30\u001b[0m \u001b[32m━━━━━━━━━━━━━━━━━━━━\u001b[0m\u001b[37m\u001b[0m \u001b[1m301s\u001b[0m 10s/step - accuracy: 0.9038 - loss: 0.2468 - val_accuracy: 0.8432 - val_loss: 0.3990\n",
            "Epoch 6/20\n",
            "\u001b[1m30/30\u001b[0m \u001b[32m━━━━━━━━━━━━━━━━━━━━\u001b[0m\u001b[37m\u001b[0m \u001b[1m327s\u001b[0m 11s/step - accuracy: 0.8761 - loss: 0.2851 - val_accuracy: 0.8517 - val_loss: 0.3459\n",
            "Epoch 7/20\n",
            "\u001b[1m30/30\u001b[0m \u001b[32m━━━━━━━━━━━━━━━━━━━━\u001b[0m\u001b[37m\u001b[0m \u001b[1m322s\u001b[0m 11s/step - accuracy: 0.9538 - loss: 0.1800 - val_accuracy: 0.8602 - val_loss: 0.3325\n",
            "Epoch 8/20\n",
            "\u001b[1m30/30\u001b[0m \u001b[32m━━━━━━━━━━━━━━━━━━━━\u001b[0m\u001b[37m\u001b[0m \u001b[1m324s\u001b[0m 11s/step - accuracy: 0.9433 - loss: 0.1680 - val_accuracy: 0.8771 - val_loss: 0.2904\n",
            "Epoch 9/20\n",
            "\u001b[1m30/30\u001b[0m \u001b[32m━━━━━━━━━━━━━━━━━━━━\u001b[0m\u001b[37m\u001b[0m \u001b[1m301s\u001b[0m 10s/step - accuracy: 0.9374 - loss: 0.1855 - val_accuracy: 0.8347 - val_loss: 0.4198\n",
            "Epoch 10/20\n",
            "\u001b[1m30/30\u001b[0m \u001b[32m━━━━━━━━━━━━━━━━━━━━\u001b[0m\u001b[37m\u001b[0m \u001b[1m303s\u001b[0m 10s/step - accuracy: 0.8935 - loss: 0.2383 - val_accuracy: 0.8644 - val_loss: 0.3736\n",
            "Epoch 11/20\n",
            "\u001b[1m30/30\u001b[0m \u001b[32m━━━━━━━━━━━━━━━━━━━━\u001b[0m\u001b[37m\u001b[0m \u001b[1m322s\u001b[0m 11s/step - accuracy: 0.9251 - loss: 0.1874 - val_accuracy: 0.8729 - val_loss: 0.2720\n",
            "Epoch 12/20\n",
            "\u001b[1m30/30\u001b[0m \u001b[32m━━━━━━━━━━━━━━━━━━━━\u001b[0m\u001b[37m\u001b[0m \u001b[1m362s\u001b[0m 10s/step - accuracy: 0.9398 - loss: 0.1484 - val_accuracy: 0.8856 - val_loss: 0.2699\n",
            "Epoch 13/20\n",
            "\u001b[1m30/30\u001b[0m \u001b[32m━━━━━━━━━━━━━━━━━━━━\u001b[0m\u001b[37m\u001b[0m \u001b[1m324s\u001b[0m 11s/step - accuracy: 0.9519 - loss: 0.1231 - val_accuracy: 0.8941 - val_loss: 0.2654\n",
            "Epoch 14/20\n",
            "\u001b[1m30/30\u001b[0m \u001b[32m━━━━━━━━━━━━━━━━━━━━\u001b[0m\u001b[37m\u001b[0m \u001b[1m302s\u001b[0m 10s/step - accuracy: 0.9419 - loss: 0.1462 - val_accuracy: 0.8983 - val_loss: 0.2698\n",
            "Epoch 15/20\n",
            "\u001b[1m30/30\u001b[0m \u001b[32m━━━━━━━━━━━━━━━━━━━━\u001b[0m\u001b[37m\u001b[0m \u001b[1m300s\u001b[0m 10s/step - accuracy: 0.9668 - loss: 0.0998 - val_accuracy: 0.8814 - val_loss: 0.2751\n",
            "Epoch 16/20\n",
            "\u001b[1m30/30\u001b[0m \u001b[32m━━━━━━━━━━━━━━━━━━━━\u001b[0m\u001b[37m\u001b[0m \u001b[1m303s\u001b[0m 10s/step - accuracy: 0.9451 - loss: 0.1406 - val_accuracy: 0.8941 - val_loss: 0.2729\n",
            "Epoch 17/20\n",
            "\u001b[1m30/30\u001b[0m \u001b[32m━━━━━━━━━━━━━━━━━━━━\u001b[0m\u001b[37m\u001b[0m \u001b[1m302s\u001b[0m 10s/step - accuracy: 0.9693 - loss: 0.1004 - val_accuracy: 0.8898 - val_loss: 0.2956\n",
            "Epoch 18/20\n",
            "\u001b[1m30/30\u001b[0m \u001b[32m━━━━━━━━━━━━━━━━━━━━\u001b[0m\u001b[37m\u001b[0m \u001b[1m326s\u001b[0m 11s/step - accuracy: 0.9374 - loss: 0.1444 - val_accuracy: 0.8771 - val_loss: 0.2961\n",
            "Epoch 19/20\n",
            "\u001b[1m30/30\u001b[0m \u001b[32m━━━━━━━━━━━━━━━━━━━━\u001b[0m\u001b[37m\u001b[0m \u001b[1m300s\u001b[0m 10s/step - accuracy: 0.9649 - loss: 0.1045 - val_accuracy: 0.9110 - val_loss: 0.2628\n",
            "Epoch 20/20\n",
            "\u001b[1m30/30\u001b[0m \u001b[32m━━━━━━━━━━━━━━━━━━━━\u001b[0m\u001b[37m\u001b[0m \u001b[1m303s\u001b[0m 10s/step - accuracy: 0.9619 - loss: 0.0891 - val_accuracy: 0.9025 - val_loss: 0.2592\n"
          ]
        }
      ],
      "source": [
        "history = resnet_model.fit(train_data, epochs=20, validation_data=validation_data)"
      ]
    },
    {
      "cell_type": "code",
      "execution_count": null,
      "metadata": {
        "id": "2k8-tPAEkHr1",
        "colab": {
          "base_uri": "https://localhost:8080/"
        },
        "outputId": "9f6eeb64-ff34-48b0-af65-2242be44e1d2"
      },
      "outputs": [
        {
          "output_type": "stream",
          "name": "stdout",
          "text": [
            "\u001b[1m36/36\u001b[0m \u001b[32m━━━━━━━━━━━━━━━━━━━━\u001b[0m\u001b[37m\u001b[0m \u001b[1m298s\u001b[0m 8s/step\n"
          ]
        }
      ],
      "source": [
        "predictions = resnet_model.predict(test_data)"
      ]
    },
    {
      "cell_type": "code",
      "execution_count": null,
      "metadata": {
        "id": "QkxoBV-GkIyz",
        "colab": {
          "base_uri": "https://localhost:8080/"
        },
        "outputId": "d890793f-7ee1-4e27-87e9-1270cfb75890"
      },
      "outputs": [
        {
          "output_type": "stream",
          "name": "stdout",
          "text": [
            "Confusion Matrix:\n",
            "[[274 277]\n",
            " [316 258]]\n",
            "Classification Report after applying techniques to handle overfitting:\n",
            "              precision    recall  f1-score   support\n",
            "\n",
            "           0       0.46      0.50      0.48       551\n",
            "           1       0.48      0.45      0.47       574\n",
            "\n",
            "    accuracy                           0.47      1125\n",
            "   macro avg       0.47      0.47      0.47      1125\n",
            "weighted avg       0.47      0.47      0.47      1125\n",
            "\n"
          ]
        }
      ],
      "source": [
        "# Assuming you have ground truth labels (true_labels) and predicted labels (predictions)\n",
        "true_labels = test_data.classes\n",
        "predicted_labels = (predictions > 0.5).astype(int)  # Adjust the threshold as needed\n",
        "\n",
        "# Calculate confusion matrix\n",
        "cm = confusion_matrix(true_labels, predicted_labels)\n",
        "\n",
        "# Print confusion matrix\n",
        "print(\"Confusion Matrix:\")\n",
        "print(cm)\n",
        "\n",
        "# Print classification report\n",
        "print(\"Classification Report after applying techniques to handle overfitting:\")\n",
        "print(classification_report(true_labels, predicted_labels))"
      ]
    },
    {
      "cell_type": "code",
      "execution_count": null,
      "metadata": {
        "id": "AxQo_9MskMar"
      },
      "outputs": [],
      "source": []
    }
  ],
  "metadata": {
    "colab": {
      "provenance": []
    },
    "kernelspec": {
      "display_name": "Python 3",
      "name": "python3"
    },
    "language_info": {
      "name": "python"
    }
  },
  "nbformat": 4,
  "nbformat_minor": 0
}